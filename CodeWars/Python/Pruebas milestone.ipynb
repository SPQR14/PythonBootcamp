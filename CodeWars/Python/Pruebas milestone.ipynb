{
 "cells": [
  {
   "cell_type": "code",
   "execution_count": 38,
   "metadata": {},
   "outputs": [],
   "source": [
    "def switcher(item):\n",
    "    switcher = {\n",
    "        1: lambda: [[0],[0]],\n",
    "        2: lambda: [[0],[2]],\n",
    "        3: lambda: [[0],[4]],\n",
    "        4: lambda: [[2],[0]],\n",
    "        5: lambda: [[2],[2]],\n",
    "        6: lambda: [[2],[4]],\n",
    "        7: lambda: [[4],[0]],\n",
    "        8: lambda: [[4],[2]],\n",
    "        9: lambda: [[4],[4]]\n",
    "    }\n",
    "    des = switcher.get(item, 'invalid')\n",
    "    return des()\n"
   ]
  },
  {
   "cell_type": "code",
   "execution_count": 39,
   "metadata": {},
   "outputs": [],
   "source": [
    "\n",
    "tablero = [['1 ', '| ', '2 ', '| ', '3'],\n",
    "           ['- ','- ' ,'- ', '- ' ,'- '], \n",
    "           ['4 ', '| ', '5 ', '| ', '6'],\n",
    "           ['- ','- ' ,'- ', '- ' ,'- '], \n",
    "           ['7 ', '| ', '8 ', '| ', '9']]"
   ]
  },
  {
   "cell_type": "code",
   "execution_count": 40,
   "metadata": {},
   "outputs": [],
   "source": [
    "def actualiza_tablero(tiro):\n",
    "    posicion = switcher(tiro)\n",
    "    if turno % 2 != 0:\n",
    "        tablero[posicion[0][0]][posicion[1][0]] = ('X ')\n",
    "    else:\n",
    "        tablero[posicion[0][0]][posicion[1][0]] = ('O ')    "
   ]
  },
  {
   "cell_type": "code",
   "execution_count": 41,
   "metadata": {},
   "outputs": [],
   "source": [
    "turno = 1"
   ]
  },
  {
   "cell_type": "code",
   "execution_count": 42,
   "metadata": {},
   "outputs": [],
   "source": [
    "actualiza_tablero(5)"
   ]
  },
  {
   "cell_type": "code",
   "execution_count": 43,
   "metadata": {},
   "outputs": [
    {
     "data": {
      "text/plain": [
       "[['1 ', '| ', '2 ', '| ', '3'],\n",
       " ['- ', '- ', '- ', '- ', '- '],\n",
       " ['4 ', '| ', 'X', '| ', '6'],\n",
       " ['- ', '- ', '- ', '- ', '- '],\n",
       " ['7 ', '| ', '8 ', '| ', '9']]"
      ]
     },
     "execution_count": 43,
     "metadata": {},
     "output_type": "execute_result"
    }
   ],
   "source": [
    "tablero"
   ]
  },
  {
   "cell_type": "code",
   "execution_count": null,
   "metadata": {},
   "outputs": [],
   "source": []
  }
 ],
 "metadata": {
  "kernelspec": {
   "display_name": "Python 3.7.3 64-bit",
   "language": "python",
   "name": "python37364bitcc93c5df7d004a8cab72552ce43a903e"
  },
  "language_info": {
   "codemirror_mode": {
    "name": "ipython",
    "version": 3
   },
   "file_extension": ".py",
   "mimetype": "text/x-python",
   "name": "python",
   "nbconvert_exporter": "python",
   "pygments_lexer": "ipython3",
   "version": "3.7.3"
  }
 },
 "nbformat": 4,
 "nbformat_minor": 2
}
