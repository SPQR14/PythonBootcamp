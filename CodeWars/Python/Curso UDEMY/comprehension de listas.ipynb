{
 "cells": [
  {
   "cell_type": "code",
   "execution_count": 43,
   "metadata": {},
   "outputs": [],
   "source": [
    "import math\n",
    "\n",
    "def cubo():\n",
    "    print(\"Cubo\")\n",
    "    l = float(input(\"Ingresa la medida del lado: \"))\n",
    "    print(\"El volumen es: \")\n",
    "    return l**3\n",
    "\n",
    "def cilindro():\n",
    "    print(\"Cilindro\")\n",
    "    r = float(input(\"ingresa la medida del radio de la base: \"))\n",
    "    h = float(input(\"ingresa la medida de la altura: \"))\n",
    "    print(\"El volumen es: \")\n",
    "    return math.pi * r**2 * h\n",
    "\n",
    "def piramide():\n",
    "    print(\"Pirámide\")\n",
    "    l = float(input(\"ingresa la medida del lado: \"))\n",
    "    h = float(input(\"ingresa la medida de la altura: \"))\n",
    "    print(\"El volumen es: \")\n",
    "    return (l**2 * h) / 2\n",
    "\n",
    "def cono():\n",
    "    print(\"Cono\")\n",
    "    r = float(input(\"Ingresa la medida del radio de la base: \"))\n",
    "    h = float(input(\"Ingresa la medida de la altura: \"))\n",
    "    print(\"El volumen es: \")\n",
    "    return (math.pi * r**2 * h) / 3\n",
    "\n",
    "def cuadrado():\n",
    "    print(\"Cuadrado\")\n",
    "    l = float(input(\"Ingresa la medida del lado: \"))\n",
    "    print(\"El área es: \")\n",
    "    return l**2\n",
    "\n",
    "def rectangulo():\n",
    "    print(\"Rectángulo\")\n",
    "    b = float(input(\"Ingresa la medida de la base: \"))\n",
    "    h = float(input(\"Ingresa la medida de la altura: \"))\n",
    "    print(\"El área es: \")\n",
    "    return h * b\n",
    "\n",
    "def triangulo():\n",
    "    print(\"Triángulo\")\n",
    "    b = float(input(\"Ingresa la medida de la base: \"))\n",
    "    h = float(input(\"Ingresa la medida de la altura: \"))\n",
    "    print(\"El área es: \")\n",
    "    return (b * h) / 2\n",
    "\n",
    "def circulo():\n",
    "    print(\"Circulo\")\n",
    "    r = float(input(\"Ingresa la medida del radio: \"))\n",
    "    print(\"El área es: \")\n",
    "    return math.pi * r**2\n",
    "\n",
    "def switcher_volumenes(arg):\n",
    "    switcher = {\n",
    "        1: cubo,\n",
    "        2: cilindro,\n",
    "        3: piramide,\n",
    "        4: cono\n",
    "    }\n",
    "    func = switcher.get(arg, lambda: \"Inválido\")\n",
    "    return func()\n",
    "\n",
    "def switcher_areas(arg):\n",
    "    switcher = {\n",
    "        1: cuadrado,\n",
    "        2: rectangulo,\n",
    "        3: triangulo,\n",
    "        4: circulo\n",
    "    }\n",
    "    func = switcher.get(arg, lambda: \"Inválido\")\n",
    "    return func()"
   ]
  },
  {
   "cell_type": "code",
   "execution_count": 45,
   "metadata": {},
   "outputs": [],
   "source": [
    "lista = [num**8 for num in range(1, 101)]"
   ]
  },
  {
   "cell_type": "code",
   "execution_count": 46,
   "metadata": {},
   "outputs": [
    {
     "data": {
      "text/plain": [
       "[1,\n",
       " 256,\n",
       " 6561,\n",
       " 65536,\n",
       " 390625,\n",
       " 1679616,\n",
       " 5764801,\n",
       " 16777216,\n",
       " 43046721,\n",
       " 100000000,\n",
       " 214358881,\n",
       " 429981696,\n",
       " 815730721,\n",
       " 1475789056,\n",
       " 2562890625,\n",
       " 4294967296,\n",
       " 6975757441,\n",
       " 11019960576,\n",
       " 16983563041,\n",
       " 25600000000,\n",
       " 37822859361,\n",
       " 54875873536,\n",
       " 78310985281,\n",
       " 110075314176,\n",
       " 152587890625,\n",
       " 208827064576,\n",
       " 282429536481,\n",
       " 377801998336,\n",
       " 500246412961,\n",
       " 656100000000,\n",
       " 852891037441,\n",
       " 1099511627776,\n",
       " 1406408618241,\n",
       " 1785793904896,\n",
       " 2251875390625,\n",
       " 2821109907456,\n",
       " 3512479453921,\n",
       " 4347792138496,\n",
       " 5352009260481,\n",
       " 6553600000000,\n",
       " 7984925229121,\n",
       " 9682651996416,\n",
       " 11688200277601,\n",
       " 14048223625216,\n",
       " 16815125390625,\n",
       " 20047612231936,\n",
       " 23811286661761,\n",
       " 28179280429056,\n",
       " 33232930569601,\n",
       " 39062500000000,\n",
       " 45767944570401,\n",
       " 53459728531456,\n",
       " 62259690411361,\n",
       " 72301961339136,\n",
       " 83733937890625,\n",
       " 96717311574016,\n",
       " 111429157112001,\n",
       " 128063081718016,\n",
       " 146830437604321,\n",
       " 167961600000000,\n",
       " 191707312997281,\n",
       " 218340105584896,\n",
       " 248155780267521,\n",
       " 281474976710656,\n",
       " 318644812890625,\n",
       " 360040606269696,\n",
       " 406067677556641,\n",
       " 457163239653376,\n",
       " 513798374428641,\n",
       " 576480100000000,\n",
       " 645753531245761,\n",
       " 722204136308736,\n",
       " 806460091894081,\n",
       " 899194740203776,\n",
       " 1001129150390625,\n",
       " 1113034787454976,\n",
       " 1235736291547681,\n",
       " 1370114370683136,\n",
       " 1517108809906561,\n",
       " 1677721600000000,\n",
       " 1853020188851841,\n",
       " 2044140858654976,\n",
       " 2252292232139041,\n",
       " 2478758911082496,\n",
       " 2724905250390625,\n",
       " 2992179271065856,\n",
       " 3282116715437121,\n",
       " 3596345248055296,\n",
       " 3936588805702081,\n",
       " 4304672100000000,\n",
       " 4702525276151521,\n",
       " 5132188731375616,\n",
       " 5595818096650401,\n",
       " 6095689385410816,\n",
       " 6634204312890625,\n",
       " 7213895789838336,\n",
       " 7837433594376961,\n",
       " 8507630225817856,\n",
       " 9227446944279201,\n",
       " 10000000000000000]"
      ]
     },
     "execution_count": 46,
     "metadata": {},
     "output_type": "execute_result"
    }
   ],
   "source": [
    "lista"
   ]
  },
  {
   "cell_type": "code",
   "execution_count": null,
   "metadata": {},
   "outputs": [],
   "source": []
  },
  {
   "cell_type": "code",
   "execution_count": 49,
   "metadata": {},
   "outputs": [],
   "source": [
    "lsita2 = [x for x in range(1, 11) if x%2 == 0]"
   ]
  },
  {
   "cell_type": "code",
   "execution_count": 50,
   "metadata": {},
   "outputs": [
    {
     "data": {
      "text/plain": [
       "[2, 4, 6, 8, 10]"
      ]
     },
     "execution_count": 50,
     "metadata": {},
     "output_type": "execute_result"
    }
   ],
   "source": [
    "lsita2"
   ]
  },
  {
   "cell_type": "code",
   "execution_count": 51,
   "metadata": {},
   "outputs": [],
   "source": [
    "fh = [((9/5)*temp + 32) for temp in range(-100,101,10)]"
   ]
  },
  {
   "cell_type": "code",
   "execution_count": 52,
   "metadata": {},
   "outputs": [
    {
     "data": {
      "text/plain": [
       "[-148.0,\n",
       " -130.0,\n",
       " -112.0,\n",
       " -94.0,\n",
       " -76.0,\n",
       " -58.0,\n",
       " -40.0,\n",
       " -22.0,\n",
       " -4.0,\n",
       " 14.0,\n",
       " 32.0,\n",
       " 50.0,\n",
       " 68.0,\n",
       " 86.0,\n",
       " 104.0,\n",
       " 122.0,\n",
       " 140.0,\n",
       " 158.0,\n",
       " 176.0,\n",
       " 194.0,\n",
       " 212.0]"
      ]
     },
     "execution_count": 52,
     "metadata": {},
     "output_type": "execute_result"
    }
   ],
   "source": [
    "fh"
   ]
  },
  {
   "cell_type": "code",
   "execution_count": 63,
   "metadata": {},
   "outputs": [],
   "source": [
    "lst = [x if x% 8 != 0 else 'Lol' for x in range(1, 51)]"
   ]
  },
  {
   "cell_type": "code",
   "execution_count": null,
   "metadata": {},
   "outputs": [],
   "source": []
  },
  {
   "cell_type": "code",
   "execution_count": 64,
   "metadata": {},
   "outputs": [
    {
     "data": {
      "text/plain": [
       "[1,\n",
       " 2,\n",
       " 3,\n",
       " 4,\n",
       " 5,\n",
       " 6,\n",
       " 7,\n",
       " 'Lol',\n",
       " 9,\n",
       " 10,\n",
       " 11,\n",
       " 12,\n",
       " 13,\n",
       " 14,\n",
       " 15,\n",
       " 'Lol',\n",
       " 17,\n",
       " 18,\n",
       " 19,\n",
       " 20,\n",
       " 21,\n",
       " 22,\n",
       " 23,\n",
       " 'Lol',\n",
       " 25,\n",
       " 26,\n",
       " 27,\n",
       " 28,\n",
       " 29,\n",
       " 30,\n",
       " 31,\n",
       " 'Lol',\n",
       " 33,\n",
       " 34,\n",
       " 35,\n",
       " 36,\n",
       " 37,\n",
       " 38,\n",
       " 39,\n",
       " 'Lol',\n",
       " 41,\n",
       " 42,\n",
       " 43,\n",
       " 44,\n",
       " 45,\n",
       " 46,\n",
       " 47,\n",
       " 'Lol',\n",
       " 49,\n",
       " 50]"
      ]
     },
     "execution_count": 64,
     "metadata": {},
     "output_type": "execute_result"
    }
   ],
   "source": [
    "lst"
   ]
  },
  {
   "cell_type": "code",
   "execution_count": null,
   "metadata": {},
   "outputs": [],
   "source": []
  }
 ],
 "metadata": {
  "kernelspec": {
   "display_name": "Python 3",
   "language": "python",
   "name": "python3"
  },
  "language_info": {
   "codemirror_mode": {
    "name": "ipython",
    "version": 3
   },
   "file_extension": ".py",
   "mimetype": "text/x-python",
   "name": "python",
   "nbconvert_exporter": "python",
   "pygments_lexer": "ipython3",
   "version": "3.7.3"
  }
 },
 "nbformat": 4,
 "nbformat_minor": 2
}
